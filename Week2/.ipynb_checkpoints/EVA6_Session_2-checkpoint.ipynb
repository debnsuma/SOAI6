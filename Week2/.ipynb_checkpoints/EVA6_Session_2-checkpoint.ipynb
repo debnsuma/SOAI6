{
 "cells": [
  {
   "cell_type": "code",
   "execution_count": 1,
   "metadata": {
    "colab": {},
    "colab_type": "code",
    "id": "0m2JWFliFfKT"
   },
   "outputs": [],
   "source": [
    "from __future__ import print_function\n",
    "import torch\n",
    "import torch.nn as nn\n",
    "import torch.nn.functional as F\n",
    "import torch.optim as optim\n",
    "from torchvision import datasets, transforms"
   ]
  },
  {
   "cell_type": "markdown",
   "metadata": {},
   "source": [
    "## Defining the Networking class"
   ]
  },
  {
   "cell_type": "code",
   "execution_count": 3,
   "metadata": {},
   "outputs": [],
   "source": [
    "# all models in PyTorch should be derived from nn.Module\n",
    "\n",
    "class Net(nn.Module):\n",
    "    def __init__(self):\n",
    "        super(Net, self).__init__()\n",
    "                                                            #  Assume N is the batch size\n",
    "        # Block 1\n",
    "        self.conv1 = nn.Conv2d(1, 32, 3, padding=1)         # (N, 1, 28, 28 )   -> (N, 32, 28, 28) , RF: 3 \n",
    "        self.conv2 = nn.Conv2d(32, 64, 3, padding=1)        # (N, 32, 28, 28)   -> (N, 64, 28, 28) , RF: 5\n",
    "        self.pool1 = nn.MaxPool2d(2, 2)                     # (N, 64, 28, 28)   -> (N, 64, 14, 14) , RF: 6\n",
    "        \n",
    "        # Block 2\n",
    "        self.conv3 = nn.Conv2d(64, 128, 3, padding=1)       # (N, 64, 14, 14)   -> (N, 128, 14, 14), RF: 10                \n",
    "        self.conv4 = nn.Conv2d(128, 256, 3, padding=1)      # (N, 128, 14, 14)  -> (N, 256, 14, 14), RF: 14\n",
    "        self.pool2 = nn.MaxPool2d(2, 2)                     # (N, 256, 14, 14)  -> (N, 256, 7, 7)  , RF: 16\n",
    "        \n",
    "        # Block 3\n",
    "        self.conv5 = nn.Conv2d(256, 512, 3)                 # (N, 256, 7, 7)    -> (N, 512, 5, 5)  , RF: 24      \n",
    "        self.conv6 = nn.Conv2d(512, 1024, 3)                # (N, 512, 7, 7)    -> (N, 1024,3,3)   , RF: 32\n",
    "        self.conv7 = nn.Conv2d(1024, 10, 3)                 # (N, 1024,7,7)     -> (N, 10, 1,1)    , RF: 40\n",
    "        \n",
    "    def forward(self, x):\n",
    "        \n",
    "        # Block 1 (CONV -> RELU -> CONV -> RELU -> MP)\n",
    "        x = self.pool1(F.relu(self.conv2(F.relu(self.conv1(x)))))   \n",
    "        \n",
    "        # Block 2 (CONV -> RELU -> CONV -> RELU -> MP)\n",
    "        x = self.pool2(F.relu(self.conv4(F.relu(self.conv3(x)))))\n",
    "\n",
    "        # Block 3 (CONV -> RELU -> CONV -> RELU)\n",
    "        x = F.relu(self.conv6(F.relu(self.conv5(x))))\n",
    "\n",
    "        # Final Layer (CONV)\n",
    "        x = self.conv7(x)\n",
    "        \n",
    "        # Flatten and Reshaping it to 10 output (Vector)\n",
    "        x = x.view(-1, 10)\n",
    "        \n",
    "        # Applying Softmax on the vector to get the intensity of 10 different outputs \n",
    "        return F.log_softmax(x)"
   ]
  },
  {
   "cell_type": "markdown",
   "metadata": {},
   "source": [
    "## Checking the Network using `torchsummary`"
   ]
  },
  {
   "cell_type": "code",
   "execution_count": 4,
   "metadata": {
    "scrolled": true
   },
   "outputs": [
    {
     "name": "stdout",
     "output_type": "stream",
     "text": [
      "Collecting torchsummary\n",
      "  Downloading torchsummary-1.5.1-py3-none-any.whl (2.8 kB)\n",
      "Installing collected packages: torchsummary\n",
      "Successfully installed torchsummary-1.5.1\n",
      "\u001b[33mWARNING: You are using pip version 20.0.2; however, version 20.2.4 is available.\n",
      "You should consider upgrading via the '/home/ec2-user/anaconda3/envs/pytorch_p36/bin/python -m pip install --upgrade pip' command.\u001b[0m\n"
     ]
    }
   ],
   "source": [
    "!pip install torchsummary"
   ]
  },
  {
   "cell_type": "code",
   "execution_count": 5,
   "metadata": {},
   "outputs": [
    {
     "name": "stdout",
     "output_type": "stream",
     "text": [
      "----------------------------------------------------------------\n",
      "        Layer (type)               Output Shape         Param #\n",
      "================================================================\n",
      "            Conv2d-1           [-1, 32, 28, 28]             320\n",
      "            Conv2d-2           [-1, 64, 28, 28]          18,496\n",
      "         MaxPool2d-3           [-1, 64, 14, 14]               0\n",
      "            Conv2d-4          [-1, 128, 14, 14]          73,856\n",
      "            Conv2d-5          [-1, 256, 14, 14]         295,168\n",
      "         MaxPool2d-6            [-1, 256, 7, 7]               0\n",
      "            Conv2d-7            [-1, 512, 5, 5]       1,180,160\n",
      "            Conv2d-8           [-1, 1024, 3, 3]       4,719,616\n",
      "            Conv2d-9             [-1, 10, 1, 1]          92,170\n",
      "================================================================\n",
      "Total params: 6,379,786\n",
      "Trainable params: 6,379,786\n",
      "Non-trainable params: 0\n",
      "----------------------------------------------------------------\n",
      "Input size (MB): 0.00\n",
      "Forward/backward pass size (MB): 1.51\n",
      "Params size (MB): 24.34\n",
      "Estimated Total Size (MB): 25.85\n",
      "----------------------------------------------------------------\n"
     ]
    },
    {
     "name": "stderr",
     "output_type": "stream",
     "text": [
      "/home/ec2-user/anaconda3/envs/pytorch_p36/lib/python3.6/site-packages/ipykernel/__main__.py:40: UserWarning: Implicit dimension choice for log_softmax has been deprecated. Change the call to include dim=X as an argument.\n"
     ]
    }
   ],
   "source": [
    "# use torchsummary to print a summary of the above model\n",
    "from torchsummary import summary\n",
    "\n",
    "# check if a GPU is available (if a GPU is available, CUDA would be loaded)\n",
    "use_cuda = torch.cuda.is_available()\n",
    "\n",
    "# get a reference to the available GPU instance\n",
    "device = torch.device(\"cuda\" if use_cuda else \"cpu\")\n",
    "\n",
    "# send the model to the GPU device\n",
    "model = Net().to(device)\n",
    "\n",
    "# print a summary of the above model, given the input_size\n",
    "summary(model, input_size=(1, 28, 28))"
   ]
  },
  {
   "cell_type": "markdown",
   "metadata": {},
   "source": [
    "## Loading the dataset"
   ]
  },
  {
   "cell_type": "code",
   "execution_count": 6,
   "metadata": {
    "colab": {},
    "colab_type": "code",
    "id": "DqTWLaM5GHgH"
   },
   "outputs": [],
   "source": [
    "# seed of all random processes within the torch instance\n",
    "torch.manual_seed(1)\n",
    "# number of input data points in each batch\n",
    "batch_size = 128\n",
    "\n",
    "# pin_memory: to use non-paged CPU memory to allow for async data xfer to GPU mem\n",
    "# num_workers: keep 1 thread to preprocess the next batch of input\n",
    "kwargs = {'num_workers': 1, 'pin_memory': True} if use_cuda else {}\n",
    "# instantiate a DataLoader for training\n",
    "train_loader = torch.utils.data.DataLoader(\n",
    "    # download MNIST dataset, and only the Training dataset\n",
    "    datasets.MNIST('../data', train=True, download=True,\n",
    "                    # pre-processing that each chunk of input data will go through\n",
    "                    transform=transforms.Compose([\n",
    "                        # convert to a Tensor\n",
    "                        transforms.ToTensor(),\n",
    "                        # data in the tensor will be normalized to the below\n",
    "                        # mentioned Mean and Standard Deviation\n",
    "                        transforms.Normalize((0.1307,), (0.3081,))\n",
    "                    ])),\n",
    "    # randomly shuffle input data for each batch\n",
    "    batch_size=batch_size, shuffle=True, **kwargs)\n",
    "\n",
    "# instantiate a DataLoader for testing\n",
    "test_loader = torch.utils.data.DataLoader(\n",
    "    # download MNIST dataset, and only the Testing dataset this time\n",
    "    datasets.MNIST('../data', train=False, transform=transforms.Compose([\n",
    "                        # convert to a Tensor\n",
    "                        transforms.ToTensor(),\n",
    "                        # use the same mu and sigma values as for training data\n",
    "                        transforms.Normalize((0.1307,), (0.3081,))\n",
    "                    ])),\n",
    "    # randomly shuffle input data for each batch\n",
    "    batch_size=batch_size, shuffle=True, **kwargs)"
   ]
  },
  {
   "cell_type": "markdown",
   "metadata": {},
   "source": [
    "## Defining the Train and Test wrapper function"
   ]
  },
  {
   "cell_type": "code",
   "execution_count": 7,
   "metadata": {
    "colab": {},
    "colab_type": "code",
    "id": "8fDefDhaFlwH"
   },
   "outputs": [],
   "source": [
    "# Basic workflows for training and testing of the model\n",
    "\n",
    "# library to help show the progress bar\n",
    "from tqdm import tqdm\n",
    "\n",
    "# training workflow\n",
    "def train(model, device, train_loader, optimizer, epoch):\n",
    "    # tell the model that we are in the training phase\n",
    "    # this helps Batch Norm and Dropout modules to take effect\n",
    "    model.train()\n",
    "\n",
    "    # prepare to iterate the progress bar over the input training data loader\n",
    "    pbar = tqdm(train_loader)\n",
    "\n",
    "    # standard 5-step process of training, for each iteration of input data batch\n",
    "    for batch_idx, (data, target) in enumerate(pbar):\n",
    "        # initialize the training input data and labels to the device memory\n",
    "        data, target = data.to(device), target.to(device)\n",
    "    \n",
    "        # Step-1: intialize the optimizer parameters so that gradients of other\n",
    "        # epochs dont mess with the current epoch\n",
    "        optimizer.zero_grad()\n",
    "        # Step-2: do a forward pass through the model using the current data batch\n",
    "        output = model(data)\n",
    "        # Step-3: compute the loss after the forward pass\n",
    "        loss = F.nll_loss(output, target)\n",
    "        # Step-4: compute the gradients for all tensors in the model using backpropagation\n",
    "        loss.backward()\n",
    "        # Step-5: iterate over all parameters (tensors) it is supposed to update\n",
    "        # and use their internally stored grad to update their values\n",
    "        optimizer.step()\n",
    "    \n",
    "        # visual output of the progress\n",
    "        pbar.set_description(desc= f'loss={loss.item()} batch_id={batch_idx}')\n",
    "\n",
    "# testing workflow\n",
    "def test(model, device, test_loader):\n",
    "    # tell the model that we are in the testing phase\n",
    "    model.eval()\n",
    "    test_loss = 0\n",
    "    correct = 0\n",
    "\n",
    "    # tell PyTorch not to update the gradients while doing the following\n",
    "    with torch.no_grad():\n",
    "        # iterate over the test Data Loader, with one data batch every iteration\n",
    "        for data, target in test_loader:\n",
    "            # initialize the testing input data and labels to the device memory\n",
    "            data, target = data.to(device), target.to(device)\n",
    "            # run the test data through the model\n",
    "            output = model(data)\n",
    "            # compute the loss and accumulate the loss over all batches of test data\n",
    "            test_loss += F.nll_loss(output, target, reduction='sum').item()  # sum up batch loss\n",
    "            # identify the output prediction as the index with the highest\n",
    "            # log-probability\n",
    "            pred = output.argmax(dim=1, keepdim=True)  # get the index of the max log-probability\n",
    "            # if the prediction is the same as the expected (target),\n",
    "            # track it in the \"correct\" counter\n",
    "            correct += pred.eq(target.view_as(pred)).sum().item()\n",
    "\n",
    "    # compute the average loss over the test dataset\n",
    "    test_loss /= len(test_loader.dataset)\n",
    "\n",
    "    # print a summary of the test run\n",
    "    print('\\nTest set: Average loss: {:.4f}, Accuracy: {}/{} ({:.0f}%)\\n'.format(\n",
    "        test_loss, correct, len(test_loader.dataset),\n",
    "        100. * correct / len(test_loader.dataset)))"
   ]
  },
  {
   "cell_type": "markdown",
   "metadata": {},
   "source": [
    "## Starting the Training"
   ]
  },
  {
   "cell_type": "code",
   "execution_count": 8,
   "metadata": {
    "colab": {},
    "colab_type": "code",
    "id": "MMWbLWO6FuHb"
   },
   "outputs": [
    {
     "name": "stderr",
     "output_type": "stream",
     "text": [
      "  0%|          | 0/469 [00:00<?, ?it/s]/home/ec2-user/anaconda3/envs/pytorch_p36/lib/python3.6/site-packages/ipykernel/__main__.py:40: UserWarning: Implicit dimension choice for log_softmax has been deprecated. Change the call to include dim=X as an argument.\n",
      "loss=0.03632986545562744 batch_id=468: 100%|██████████| 469/469 [00:37<00:00, 12.39it/s] \n"
     ]
    },
    {
     "name": "stdout",
     "output_type": "stream",
     "text": [
      "\n",
      "Test set: Average loss: 0.0659, Accuracy: 9787/10000 (98%)\n",
      "\n"
     ]
    }
   ],
   "source": [
    "# Basic driver code to train and test the model\n",
    "\n",
    "# send the model to the identified device (GPU)\n",
    "model = Net().to(device)\n",
    "# setup the SGD optimizer\n",
    "optimizer = optim.SGD(model.parameters(), lr=0.01, momentum=0.9)\n",
    "\n",
    "# multi-epoch train-test loop (currently shows only 1 epoch)\n",
    "for epoch in range(1, 2):\n",
    "    # train the model, results in model parameters to be adjusted\n",
    "    train(model, device, train_loader, optimizer, epoch)\n",
    "    # test the model accuracy with the learnt model parameters\n",
    "    test(model, device, test_loader)"
   ]
  },
  {
   "cell_type": "code",
   "execution_count": null,
   "metadata": {
    "colab": {},
    "colab_type": "code",
    "id": "So5uk4EkHW6R"
   },
   "outputs": [],
   "source": []
  }
 ],
 "metadata": {
  "accelerator": "GPU",
  "colab": {
   "name": "EVA4 - Session 2.ipynb",
   "provenance": []
  },
  "kernelspec": {
   "display_name": "Python 3",
   "language": "python",
   "name": "python3"
  },
  "language_info": {
   "codemirror_mode": {
    "name": "ipython",
    "version": 3
   },
   "file_extension": ".py",
   "mimetype": "text/x-python",
   "name": "python",
   "nbconvert_exporter": "python",
   "pygments_lexer": "ipython3",
   "version": "3.8.3"
  },
  "toc": {
   "base_numbering": 1,
   "nav_menu": {},
   "number_sections": true,
   "sideBar": true,
   "skip_h1_title": false,
   "title_cell": "Table of Contents",
   "title_sidebar": "Contents",
   "toc_cell": false,
   "toc_position": {},
   "toc_section_display": true,
   "toc_window_display": false
  },
  "varInspector": {
   "cols": {
    "lenName": 16,
    "lenType": 16,
    "lenVar": 40
   },
   "kernels_config": {
    "python": {
     "delete_cmd_postfix": "",
     "delete_cmd_prefix": "del ",
     "library": "var_list.py",
     "varRefreshCmd": "print(var_dic_list())"
    },
    "r": {
     "delete_cmd_postfix": ") ",
     "delete_cmd_prefix": "rm(",
     "library": "var_list.r",
     "varRefreshCmd": "cat(var_dic_list()) "
    }
   },
   "types_to_exclude": [
    "module",
    "function",
    "builtin_function_or_method",
    "instance",
    "_Feature"
   ],
   "window_display": false
  }
 },
 "nbformat": 4,
 "nbformat_minor": 1
}
