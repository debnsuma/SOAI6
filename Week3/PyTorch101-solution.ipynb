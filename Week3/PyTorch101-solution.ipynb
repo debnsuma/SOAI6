{
 "cells": [
  {
   "cell_type": "markdown",
   "metadata": {
    "colab_type": "text",
    "id": "_kYM3ylzYo1Q"
   },
   "source": [
    "![PyTorch](https://devblogs.nvidia.com/wp-content/uploads/2017/04/pytorch-logo-dark.png)\n",
    "\n",
    "An open source machine learning framework that accelerates the path from research prototyping to production deployment.\n",
    "\n"
   ]
  },
  {
   "cell_type": "markdown",
   "metadata": {
    "colab_type": "text",
    "id": "WcVqSTrWY6oz"
   },
   "source": [
    "# Tensor - Pytorch's core data structure\n",
    "\n",
    "In Python we can create lists, lists of lists, lists of lists and so on. In NumPy there is a `numpy.ndarray` which represents `n`- dimensional array. In math there is a special name for the generalization of vectors and matrices to a higher dimensional space - a tensor\n",
    "\n",
    "Tensor is an entity with a defined number of dimensions called an order (rank). \n",
    "\n",
    "**Scalar** can be considered as a rank-0-tensor. \n",
    "\n",
    "**Vector** can be introduced as a rank-1-tensor. \n",
    "\n",
    "**Matrices** can be considered as a rank-2-tensor.\n",
    "\n",
    "# Tensor Basics\n",
    "\n",
    "Let's import the torch module first."
   ]
  },
  {
   "cell_type": "code",
   "execution_count": 1,
   "metadata": {
    "colab": {},
    "colab_type": "code",
    "id": "e-oFVL2tYYqp"
   },
   "outputs": [],
   "source": [
    "import numpy as np\n",
    "import torch"
   ]
  },
  {
   "cell_type": "markdown",
   "metadata": {
    "colab_type": "text",
    "id": "uGxuR5IEaFJa"
   },
   "source": [
    "## Tensor Creation\n",
    "Let's view examples of matrices and tensors generation\n",
    "\n",
    "2-dimensional (rank-2) tensor of zeros:"
   ]
  },
  {
   "cell_type": "code",
   "execution_count": 2,
   "metadata": {
    "colab": {
     "base_uri": "https://localhost:8080/",
     "height": 71
    },
    "colab_type": "code",
    "id": "897JQc25aD3E",
    "outputId": "440b9c18-58f8-4011-dea0-fd49aa0281fd",
    "scrolled": false
   },
   "outputs": [
    {
     "data": {
      "text/plain": [
       "tensor([[0., 0., 0., 0.],\n",
       "        [0., 0., 0., 0.],\n",
       "        [0., 0., 0., 0.]])"
      ]
     },
     "execution_count": 2,
     "metadata": {},
     "output_type": "execute_result"
    }
   ],
   "source": [
    "torch.zeros(3, 4)"
   ]
  },
  {
   "cell_type": "markdown",
   "metadata": {
    "colab_type": "text",
    "id": "pujmpEBhaPRA"
   },
   "source": [
    "Random rank-3 tensor:\n",
    "_read the print below and convince yourself how this is a rank-3-tensor and learn what those 2, 3, 4 values are there for_"
   ]
  },
  {
   "cell_type": "code",
   "execution_count": 3,
   "metadata": {
    "colab": {
     "base_uri": "https://localhost:8080/",
     "height": 143
    },
    "colab_type": "code",
    "id": "mBrznTNhaOL7",
    "outputId": "b8766972-2d0b-4b41-cd3b-b66dbbb56c40"
   },
   "outputs": [
    {
     "data": {
      "text/plain": [
       "tensor([[[0.6027, 0.2738, 0.0236, 0.5839],\n",
       "         [0.1036, 0.5301, 0.3366, 0.3110],\n",
       "         [0.4134, 0.0340, 0.3766, 0.6305]],\n",
       "\n",
       "        [[0.4900, 0.9144, 0.0163, 0.3432],\n",
       "         [0.6555, 0.1165, 0.1244, 0.1059],\n",
       "         [0.8647, 0.5106, 0.4086, 0.1822]]])"
      ]
     },
     "execution_count": 3,
     "metadata": {},
     "output_type": "execute_result"
    }
   ],
   "source": [
    "torch.rand(2, 3, 4)"
   ]
  },
  {
   "cell_type": "markdown",
   "metadata": {
    "colab_type": "text",
    "id": "kO4fIr15asdi"
   },
   "source": [
    "I am hoping you have noticed 4-elements in a row, 3 rows making one block and there are 2 blocks. \n",
    "\n",
    "Random rank-4-tensor:"
   ]
  },
  {
   "cell_type": "code",
   "execution_count": 4,
   "metadata": {
    "colab": {
     "base_uri": "https://localhost:8080/",
     "height": 233
    },
    "colab_type": "code",
    "id": "KiCLvMGCaVZ3",
    "outputId": "d5c01ff4-23be-4084-a143-b3e639ae1d5f"
   },
   "outputs": [
    {
     "data": {
      "text/plain": [
       "tensor([[[[0.8348, 0.2096, 0.4645],\n",
       "          [0.5160, 0.0411, 0.5832]],\n",
       "\n",
       "         [[0.3911, 0.2203, 0.1637],\n",
       "          [0.3318, 0.9474, 0.1788]]],\n",
       "\n",
       "\n",
       "        [[[0.2249, 0.9776, 0.2510],\n",
       "          [0.5543, 0.9471, 0.7494]],\n",
       "\n",
       "         [[0.0950, 0.3492, 0.1130],\n",
       "          [0.7083, 0.0586, 0.3597]]]])"
      ]
     },
     "execution_count": 4,
     "metadata": {},
     "output_type": "execute_result"
    }
   ],
   "source": [
    "a = torch.rand(2, 2, 2, 3)\n",
    "a"
   ]
  },
  {
   "cell_type": "code",
   "execution_count": 5,
   "metadata": {},
   "outputs": [
    {
     "data": {
      "text/plain": [
       "torch.Size([2, 2, 2, 3])"
      ]
     },
     "execution_count": 5,
     "metadata": {},
     "output_type": "execute_result"
    }
   ],
   "source": [
    "a.shape"
   ]
  },
  {
   "cell_type": "markdown",
   "metadata": {
    "colab_type": "text",
    "id": "lF6VL68s3AMV"
   },
   "source": [
    "## Question 1:\n",
    "\n",
    "How many dimensions are there in a tensor defined as below?"
   ]
  },
  {
   "cell_type": "code",
   "execution_count": 6,
   "metadata": {
    "colab": {
     "base_uri": "https://localhost:8080/",
     "height": 35
    },
    "colab_type": "code",
    "id": "8IbXcI3x3Ibt",
    "outputId": "917e866e-9ad8-4b5a-f190-72ba415c87e7",
    "scrolled": true
   },
   "outputs": [
    {
     "data": {
      "text/plain": [
       "tensor([[[[0.7064]]]])"
      ]
     },
     "execution_count": 6,
     "metadata": {},
     "output_type": "execute_result"
    }
   ],
   "source": [
    "a = torch.rand(1, 1, 1, 1)\n",
    "a"
   ]
  },
  {
   "cell_type": "code",
   "execution_count": 7,
   "metadata": {},
   "outputs": [
    {
     "data": {
      "text/plain": [
       "torch.Size([1, 1, 1, 1])"
      ]
     },
     "execution_count": 7,
     "metadata": {},
     "output_type": "execute_result"
    }
   ],
   "source": [
    "a.shape"
   ]
  },
  {
   "cell_type": "code",
   "execution_count": 8,
   "metadata": {},
   "outputs": [
    {
     "data": {
      "text/plain": [
       "1"
      ]
     },
     "execution_count": 8,
     "metadata": {},
     "output_type": "execute_result"
    }
   ],
   "source": [
    "a.numel()"
   ]
  },
  {
   "cell_type": "code",
   "execution_count": 9,
   "metadata": {},
   "outputs": [
    {
     "name": "stdout",
     "output_type": "stream",
     "text": [
      "torch.Size([1, 1, 1, 1])\n"
     ]
    }
   ],
   "source": [
    "print(a.size())\n"
   ]
  },
  {
   "cell_type": "markdown",
   "metadata": {},
   "source": [
    "## Answer 1"
   ]
  },
  {
   "cell_type": "markdown",
   "metadata": {},
   "source": [
    "4"
   ]
  },
  {
   "cell_type": "markdown",
   "metadata": {
    "colab_type": "text",
    "id": "qmgpqssRa9jF"
   },
   "source": [
    ".\n",
    "\n",
    "---\n",
    "\n",
    "\n",
    "There are many more ways to create tensor using some restrictions on values it should contatn - for the full reference, please follow the [official docs](https://pytorch.org/docs/stable/torch.html#creation-ops). \n",
    "\n",
    "\n",
    ".\n",
    "---\n",
    "\n",
    "\n",
    "# Python / NumPy / Pytorch interoperability\n",
    "\n",
    "You can create tensors from python as well as numpy arrays. You can also convert torch tensors to numpy arrays. So, the interoperability between torch and numpy is pretty good. "
   ]
  },
  {
   "cell_type": "code",
   "execution_count": 10,
   "metadata": {
    "colab": {
     "base_uri": "https://localhost:8080/",
     "height": 125
    },
    "colab_type": "code",
    "id": "ipgpeWPfa6gE",
    "outputId": "73e2f4aa-d3ae-4585-cad8-3a4aaf03435d"
   },
   "outputs": [
    {
     "name": "stdout",
     "output_type": "stream",
     "text": [
      "List:    [1, 2]\n",
      "Array:   [1 2]\n",
      "Tensor:  tensor([1, 2])\n",
      "Tensor:  tensor([1, 2])\n",
      "Tensor:  tensor([1, 2])\n",
      "Array:   [1 2]\n"
     ]
    }
   ],
   "source": [
    "# Simple Python List\n",
    "python_list = [1, 2]\n",
    "\n",
    "# Create a numpy array from python list\n",
    "numpy_array = np.array(python_list)\n",
    "\n",
    "# Create a torch Tensor from python list\n",
    "tensor_from_list = torch.tensor(python_list)\n",
    "\n",
    "# Create a torch Tensor from Numpy array\n",
    "tensor_from_array = torch.tensor(numpy_array)\n",
    "\n",
    "# Another way to create a torch Tensor from Numpy array (share same storage)\n",
    "tensor_from_array_v2 = torch.from_numpy(numpy_array)\n",
    "\n",
    "# Convert torch tensor to numpy array\n",
    "array_from_tensor = tensor_from_array.numpy()\n",
    "\n",
    "print('List:   ', python_list)\n",
    "print('Array:  ', numpy_array)\n",
    "print('Tensor: ', tensor_from_list)\n",
    "print('Tensor: ', tensor_from_array)\n",
    "print('Tensor: ', tensor_from_array_v2)\n",
    "print('Array:  ', array_from_tensor)"
   ]
  },
  {
   "cell_type": "markdown",
   "metadata": {
    "colab_type": "text",
    "id": "X_x-86B8gqik"
   },
   "source": [
    "**Difference between** `torch.Tensor` **and** `torch.from_numpy`\n",
    "\n",
    "Pytorch aims to be an effective library for computations. What does it mean? It means that pytorch avoids memory copying if it can. "
   ]
  },
  {
   "cell_type": "code",
   "execution_count": 11,
   "metadata": {
    "colab": {
     "base_uri": "https://localhost:8080/",
     "height": 71
    },
    "colab_type": "code",
    "id": "eHCKDGpygn_d",
    "outputId": "9d4a2409-7d5f-488c-d06b-a672c3141b76"
   },
   "outputs": [
    {
     "name": "stdout",
     "output_type": "stream",
     "text": [
      "Array:   [10  2]\n",
      "Tensor:  tensor([1, 2])\n",
      "Tensor:  tensor([10,  2])\n"
     ]
    }
   ],
   "source": [
    "numpy_array[0] = 10\n",
    "\n",
    "print('Array:  ', numpy_array)\n",
    "print('Tensor: ', tensor_from_array)\n",
    "print('Tensor: ', tensor_from_array_v2)"
   ]
  },
  {
   "cell_type": "markdown",
   "metadata": {
    "colab_type": "text",
    "id": "-CKtdNRM3SMp"
   },
   "source": [
    "## Question 2:\n",
    "\n",
    "Assume that we moved our complete (cats vs dogs) image dataset to numpy arrays. Then we use torch.from_numpy to convert these images to tensor. Then we apply a specific data augmentation strategy called \"CutOut\" which blocks a portion of the image directly on these tensors. What will happen to the accuracy of a model trained on this strategy compared to the one without this strategy? CutOut strategy is shown below: \n",
    "\n",
    "![CutOut](https://encrypted-tbn0.gstatic.com/images?q=tbn%3AANd9GcSnSyN835AmtQPKQbPjDHX-FmshNilbtexX95cRGQPwl56QCGDn)\n",
    "\n",
    "\n",
    "\n",
    "---\n",
    "\n",
    "\n"
   ]
  },
  {
   "cell_type": "markdown",
   "metadata": {},
   "source": [
    "### Answer 2"
   ]
  },
  {
   "cell_type": "markdown",
   "metadata": {},
   "source": [
    "- Accuracy would go down\n",
    "- Cutout Regularization should force a CNN model to develop a more diverse set of features for classifying images. Instead of just focusing on the wheels of a car, Cutout Regularization should force the model to look at other details of the image."
   ]
  },
  {
   "cell_type": "markdown",
   "metadata": {},
   "source": [
    "## Question 3:\n",
    "Why do you think we are observing this behavior?\n"
   ]
  },
  {
   "cell_type": "markdown",
   "metadata": {
    "colab_type": "text",
    "id": "dZq7O-aihSOA"
   },
   "source": [
    "We have two different ways to create tensor from its NumPy counterpart - one copies memory and another one shares the same underlying storage. It works in the opposite way:"
   ]
  },
  {
   "cell_type": "code",
   "execution_count": 12,
   "metadata": {
    "colab": {
     "base_uri": "https://localhost:8080/",
     "height": 89
    },
    "colab_type": "code",
    "id": "TNFOwV8EhPwQ",
    "outputId": "5c3662a8-6726-472a-b7ad-c7762136f687"
   },
   "outputs": [
    {
     "name": "stdout",
     "output_type": "stream",
     "text": [
      "Tensor:  tensor([1, 2])\n",
      "Array:  [1 2]\n",
      "Tensor:  tensor([11,  2])\n",
      "Array:  [11  2]\n"
     ]
    }
   ],
   "source": [
    "array_from_tensor = tensor_from_array.numpy()\n",
    "print('Tensor: ', tensor_from_array)\n",
    "print('Array: ', array_from_tensor)\n",
    "\n",
    "tensor_from_array[0] = 11\n",
    "print('Tensor: ', tensor_from_array)\n",
    "print('Array: ', array_from_tensor)"
   ]
  },
  {
   "cell_type": "code",
   "execution_count": 13,
   "metadata": {},
   "outputs": [],
   "source": [
    "# Simple Python List\n",
    "python_list = [1, 2]\n",
    "\n",
    "# Create a numpy array from python list\n",
    "my_numpy_array = np.array(python_list)"
   ]
  },
  {
   "cell_type": "code",
   "execution_count": 14,
   "metadata": {},
   "outputs": [],
   "source": [
    "t_t = torch.tensor(my_numpy_array)"
   ]
  },
  {
   "cell_type": "code",
   "execution_count": 15,
   "metadata": {},
   "outputs": [
    {
     "data": {
      "text/plain": [
       "tensor([1, 2])"
      ]
     },
     "execution_count": 15,
     "metadata": {},
     "output_type": "execute_result"
    }
   ],
   "source": [
    "t_t"
   ]
  },
  {
   "cell_type": "code",
   "execution_count": 16,
   "metadata": {},
   "outputs": [],
   "source": [
    "t_n = torch.from_numpy(my_numpy_array)"
   ]
  },
  {
   "cell_type": "code",
   "execution_count": 17,
   "metadata": {},
   "outputs": [],
   "source": [
    "my_numpy_array[1] = 100"
   ]
  },
  {
   "cell_type": "code",
   "execution_count": 18,
   "metadata": {},
   "outputs": [
    {
     "data": {
      "text/plain": [
       "array([  1, 100])"
      ]
     },
     "execution_count": 18,
     "metadata": {},
     "output_type": "execute_result"
    }
   ],
   "source": [
    "my_numpy_array"
   ]
  },
  {
   "cell_type": "code",
   "execution_count": 19,
   "metadata": {},
   "outputs": [
    {
     "data": {
      "text/plain": [
       "tensor([1, 2])"
      ]
     },
     "execution_count": 19,
     "metadata": {},
     "output_type": "execute_result"
    }
   ],
   "source": [
    "t_t"
   ]
  },
  {
   "cell_type": "code",
   "execution_count": 20,
   "metadata": {},
   "outputs": [
    {
     "data": {
      "text/plain": [
       "tensor([  1, 100])"
      ]
     },
     "execution_count": 20,
     "metadata": {},
     "output_type": "execute_result"
    }
   ],
   "source": [
    "t_n"
   ]
  },
  {
   "cell_type": "markdown",
   "metadata": {},
   "source": [
    "### Answer 3"
   ]
  },
  {
   "cell_type": "markdown",
   "metadata": {},
   "source": [
    "- torch.tensor() is deep copy \n",
    "- torch.from_numpy() is shallow copy"
   ]
  },
  {
   "cell_type": "markdown",
   "metadata": {
    "colab_type": "text",
    "id": "UM9ytbvKhtCw"
   },
   "source": [
    "## Data types\n",
    "\n",
    "The basic data type of all Deep Learning-related operations is float, but sometimes you may need something else. Pytorch support different number types for its tensors the same way NumPy does it - by specifying the data type on tensor creation or via casting. Ths full list of supported data types can be found [here](https://pytorch.org/docs/stable/tensors.html). "
   ]
  },
  {
   "cell_type": "code",
   "execution_count": 21,
   "metadata": {
    "colab": {
     "base_uri": "https://localhost:8080/",
     "height": 161
    },
    "colab_type": "code",
    "id": "Bd6WkzJ4hpYi",
    "outputId": "158763d1-a5c2-4a05-c8d0-447a87063a6b"
   },
   "outputs": [
    {
     "name": "stdout",
     "output_type": "stream",
     "text": [
      "Tensor with default type:  tensor([[0., 0.],\n",
      "        [0., 0.]])\n",
      "Tensor with 16-bit float:  tensor([[0., 0.],\n",
      "        [0., 0.]], dtype=torch.float16)\n",
      "Tensor with integers:  tensor([[0, 0],\n",
      "        [0, 0]], dtype=torch.int16)\n",
      "Tensor with boolean data:  tensor([[False, False],\n",
      "        [False, False]])\n"
     ]
    }
   ],
   "source": [
    "tensor = torch.zeros(2, 2)\n",
    "print('Tensor with default type: ', tensor)\n",
    "tensor = torch.zeros(2, 2, dtype=torch.float16)\n",
    "print('Tensor with 16-bit float: ', tensor)\n",
    "tensor = torch.zeros(2, 2, dtype=torch.int16)\n",
    "print('Tensor with integers: ', tensor)\n",
    "tensor = torch.zeros(2, 2, dtype=torch.bool)\n",
    "print('Tensor with boolean data: ', tensor)"
   ]
  },
  {
   "cell_type": "markdown",
   "metadata": {
    "colab_type": "text",
    "id": "a9F4Dkdr40TE"
   },
   "source": [
    "\n",
    "\n",
    "---\n",
    "\n",
    "\n",
    "## Question 4:\n",
    "We saw above that some times numpy and tensors share same storage and changing one changes the other. \n",
    "If we define a rank-2-tensor with ones (dtype of f16), and then convert it into a numpy data type using tensor.numpy() and store it in a variable called \"num\", and then we perform this operation `num = num * 0.5`, will the original tensor have 1.0s or 0.5s as its element values? \n"
   ]
  },
  {
   "cell_type": "code",
   "execution_count": 22,
   "metadata": {},
   "outputs": [],
   "source": [
    "t = torch.ones(1,1)"
   ]
  },
  {
   "cell_type": "code",
   "execution_count": 23,
   "metadata": {},
   "outputs": [
    {
     "data": {
      "text/plain": [
       "torch.Size([1, 1])"
      ]
     },
     "execution_count": 23,
     "metadata": {},
     "output_type": "execute_result"
    }
   ],
   "source": [
    "t.shape"
   ]
  },
  {
   "cell_type": "code",
   "execution_count": 24,
   "metadata": {},
   "outputs": [
    {
     "data": {
      "text/plain": [
       "torch.float32"
      ]
     },
     "execution_count": 24,
     "metadata": {},
     "output_type": "execute_result"
    }
   ],
   "source": [
    "t.dtype"
   ]
  },
  {
   "cell_type": "code",
   "execution_count": 25,
   "metadata": {},
   "outputs": [
    {
     "data": {
      "text/plain": [
       "tensor([[1.]])"
      ]
     },
     "execution_count": 25,
     "metadata": {},
     "output_type": "execute_result"
    }
   ],
   "source": [
    "t"
   ]
  },
  {
   "cell_type": "code",
   "execution_count": 26,
   "metadata": {},
   "outputs": [],
   "source": [
    "t = torch.ones(1,1, dtype=torch.float16)"
   ]
  },
  {
   "cell_type": "code",
   "execution_count": 27,
   "metadata": {},
   "outputs": [
    {
     "data": {
      "text/plain": [
       "tensor([[1.]], dtype=torch.float16)"
      ]
     },
     "execution_count": 27,
     "metadata": {},
     "output_type": "execute_result"
    }
   ],
   "source": [
    "t"
   ]
  },
  {
   "cell_type": "code",
   "execution_count": 28,
   "metadata": {},
   "outputs": [],
   "source": [
    "num = t.numpy()"
   ]
  },
  {
   "cell_type": "code",
   "execution_count": 29,
   "metadata": {},
   "outputs": [
    {
     "data": {
      "text/plain": [
       "array([[1.]], dtype=float16)"
      ]
     },
     "execution_count": 29,
     "metadata": {},
     "output_type": "execute_result"
    }
   ],
   "source": [
    "num"
   ]
  },
  {
   "cell_type": "code",
   "execution_count": 30,
   "metadata": {},
   "outputs": [
    {
     "data": {
      "text/plain": [
       "(1, 1)"
      ]
     },
     "execution_count": 30,
     "metadata": {},
     "output_type": "execute_result"
    }
   ],
   "source": [
    "num.shape"
   ]
  },
  {
   "cell_type": "code",
   "execution_count": 31,
   "metadata": {},
   "outputs": [],
   "source": [
    "num = num * 0.5"
   ]
  },
  {
   "cell_type": "code",
   "execution_count": 32,
   "metadata": {},
   "outputs": [
    {
     "data": {
      "text/plain": [
       "array([[0.5]], dtype=float16)"
      ]
     },
     "execution_count": 32,
     "metadata": {},
     "output_type": "execute_result"
    }
   ],
   "source": [
    "num"
   ]
  },
  {
   "cell_type": "code",
   "execution_count": 33,
   "metadata": {},
   "outputs": [
    {
     "data": {
      "text/plain": [
       "tensor([[1.]], dtype=torch.float16)"
      ]
     },
     "execution_count": 33,
     "metadata": {},
     "output_type": "execute_result"
    }
   ],
   "source": [
    "t"
   ]
  },
  {
   "cell_type": "code",
   "execution_count": 34,
   "metadata": {},
   "outputs": [
    {
     "data": {
      "text/plain": [
       "array([[0.5]], dtype=float16)"
      ]
     },
     "execution_count": 34,
     "metadata": {},
     "output_type": "execute_result"
    }
   ],
   "source": [
    "num"
   ]
  },
  {
   "cell_type": "code",
   "execution_count": 35,
   "metadata": {},
   "outputs": [],
   "source": [
    "t[0,0] = 100"
   ]
  },
  {
   "cell_type": "code",
   "execution_count": 36,
   "metadata": {},
   "outputs": [
    {
     "data": {
      "text/plain": [
       "tensor([[100.]], dtype=torch.float16)"
      ]
     },
     "execution_count": 36,
     "metadata": {},
     "output_type": "execute_result"
    }
   ],
   "source": [
    "t"
   ]
  },
  {
   "cell_type": "code",
   "execution_count": 37,
   "metadata": {},
   "outputs": [
    {
     "data": {
      "text/plain": [
       "array([[0.5]], dtype=float16)"
      ]
     },
     "execution_count": 37,
     "metadata": {},
     "output_type": "execute_result"
    }
   ],
   "source": [
    "num"
   ]
  },
  {
   "cell_type": "code",
   "execution_count": 38,
   "metadata": {},
   "outputs": [
    {
     "name": "stdout",
     "output_type": "stream",
     "text": [
      "tensor([[1., 1.],\n",
      "        [1., 1.]], dtype=torch.float16)\n",
      "[[0.5 0.5]\n",
      " [0.5 0.5]]\n",
      "tensor([[1., 1.],\n",
      "        [1., 1.]], dtype=torch.float16)\n"
     ]
    }
   ],
   "source": [
    "t = torch.ones(2, 2, dtype=torch.float16)\n",
    "print(t)\n",
    "n = t.numpy()\n",
    "n = n * 0.5\n",
    "print(n)\n",
    "print(t)"
   ]
  },
  {
   "cell_type": "markdown",
   "metadata": {},
   "source": [
    "### Answer 4"
   ]
  },
  {
   "cell_type": "markdown",
   "metadata": {},
   "source": [
    "No, it will not change"
   ]
  },
  {
   "cell_type": "markdown",
   "metadata": {},
   "source": [
    "Note:\n",
    "\n",
    "- Both t and n point to the same data location. Why t does not change when n is overwritten is because line #4 creates the multiplication output in a new data location. And the object name n then points to the new location.\n",
    "\n",
    "- If instead, the operation was n *= 0.5, the multiplication would have been done in-place, as the *= operator would inform the object that the result should be in-place."
   ]
  },
  {
   "cell_type": "code",
   "execution_count": 39,
   "metadata": {},
   "outputs": [
    {
     "data": {
      "text/plain": [
       "72"
      ]
     },
     "execution_count": 39,
     "metadata": {},
     "output_type": "execute_result"
    }
   ],
   "source": [
    "import sys\n",
    "\n",
    "sys.getsizeof(t)"
   ]
  },
  {
   "cell_type": "code",
   "execution_count": 40,
   "metadata": {},
   "outputs": [
    {
     "data": {
      "text/plain": [
       "114"
      ]
     },
     "execution_count": 40,
     "metadata": {},
     "output_type": "execute_result"
    }
   ],
   "source": [
    "sys.getsizeof(num)"
   ]
  },
  {
   "cell_type": "code",
   "execution_count": 41,
   "metadata": {},
   "outputs": [
    {
     "data": {
      "text/plain": [
       "tensor([[1., 1.],\n",
       "        [1., 1.]], dtype=torch.float16)"
      ]
     },
     "execution_count": 41,
     "metadata": {},
     "output_type": "execute_result"
    }
   ],
   "source": [
    "t"
   ]
  },
  {
   "cell_type": "code",
   "execution_count": 42,
   "metadata": {},
   "outputs": [
    {
     "data": {
      "text/plain": [
       "array([[0.5]], dtype=float16)"
      ]
     },
     "execution_count": 42,
     "metadata": {},
     "output_type": "execute_result"
    }
   ],
   "source": [
    "num"
   ]
  },
  {
   "cell_type": "markdown",
   "metadata": {
    "colab_type": "text",
    "id": "OiQt8Mmm51OE"
   },
   "source": [
    "\n",
    "\n",
    "---\n",
    "\n",
    "## Question 5: \n",
    "If the operation `num = num*5` is changed to `num[:] = num*5` will the original tensor have 1.0s or 0.5s as its element values? \n",
    "\n",
    "\n",
    "\n",
    "---\n",
    "\n"
   ]
  },
  {
   "cell_type": "code",
   "execution_count": 43,
   "metadata": {},
   "outputs": [],
   "source": [
    "t = torch.ones(1,1)\n",
    "num = t.numpy()"
   ]
  },
  {
   "cell_type": "code",
   "execution_count": 44,
   "metadata": {},
   "outputs": [
    {
     "data": {
      "text/plain": [
       "tensor([[1.]])"
      ]
     },
     "execution_count": 44,
     "metadata": {},
     "output_type": "execute_result"
    }
   ],
   "source": [
    "t"
   ]
  },
  {
   "cell_type": "code",
   "execution_count": 45,
   "metadata": {},
   "outputs": [
    {
     "data": {
      "text/plain": [
       "array([[1.]], dtype=float32)"
      ]
     },
     "execution_count": 45,
     "metadata": {},
     "output_type": "execute_result"
    }
   ],
   "source": [
    "num"
   ]
  },
  {
   "cell_type": "code",
   "execution_count": 46,
   "metadata": {},
   "outputs": [],
   "source": [
    "num[:] = num*.5"
   ]
  },
  {
   "cell_type": "code",
   "execution_count": 47,
   "metadata": {},
   "outputs": [
    {
     "data": {
      "text/plain": [
       "array([[0.5]], dtype=float32)"
      ]
     },
     "execution_count": 47,
     "metadata": {},
     "output_type": "execute_result"
    }
   ],
   "source": [
    "num"
   ]
  },
  {
   "cell_type": "code",
   "execution_count": 48,
   "metadata": {},
   "outputs": [
    {
     "data": {
      "text/plain": [
       "tensor([[0.5000]])"
      ]
     },
     "execution_count": 48,
     "metadata": {},
     "output_type": "execute_result"
    }
   ],
   "source": [
    "t"
   ]
  },
  {
   "cell_type": "code",
   "execution_count": 49,
   "metadata": {},
   "outputs": [
    {
     "name": "stdout",
     "output_type": "stream",
     "text": [
      "tensor([[1., 1.],\n",
      "        [1., 1.]], dtype=torch.float16)\n",
      "[[0.5 0.5]\n",
      " [0.5 0.5]]\n",
      "tensor([[0.5000, 0.5000],\n",
      "        [0.5000, 0.5000]], dtype=torch.float16)\n"
     ]
    }
   ],
   "source": [
    "t = torch.ones(2, 2, dtype=torch.float16)\n",
    "print(t)\n",
    "n = t.numpy()\n",
    "n[:] = n * 0.5\n",
    "print(n)\n",
    "print(t)"
   ]
  },
  {
   "cell_type": "markdown",
   "metadata": {},
   "source": [
    "### Answer 5"
   ]
  },
  {
   "cell_type": "markdown",
   "metadata": {},
   "source": [
    "Yes, now it will change to .5"
   ]
  },
  {
   "cell_type": "markdown",
   "metadata": {
    "colab_type": "text",
    "id": "vzh8UB8KiVmb"
   },
   "source": [
    "## Indexing\n",
    "\n",
    "Tensor provides access to its elements via the same `[]` operation as a regular python list or NumPy array. However, as you may recall from NumPy usage, the full power of math libraries is accessible only via vectorized operations, i.e. operations without explicit looping over all vector elements in python and using implicit optimized loops in C/C++/CUDA/Fortran/etc. available via special function calls. Pytorch employs the same paradigm and provides a wide range of vectorized operations. Let's take a look at some examples. \n",
    "\n",
    "Joining a list of tensors together with `torch.cat`"
   ]
  },
  {
   "cell_type": "code",
   "execution_count": 50,
   "metadata": {
    "colab": {
     "base_uri": "https://localhost:8080/",
     "height": 125
    },
    "colab_type": "code",
    "id": "GMaCDKPhiUAb",
    "outputId": "bc0a7e9b-7197-402e-c826-925b38bd4a08"
   },
   "outputs": [
    {
     "name": "stdout",
     "output_type": "stream",
     "text": [
      "tensor([[0., 0.],\n",
      "        [0., 0.],\n",
      "        [0., 0.],\n",
      "        [1., 1.],\n",
      "        [1., 1.],\n",
      "        [1., 1.]])\n"
     ]
    }
   ],
   "source": [
    "a = torch.zeros(3, 2)\n",
    "b = torch.ones(3, 2)\n",
    "print(torch.cat((a, b), dim=0))"
   ]
  },
  {
   "cell_type": "markdown",
   "metadata": {},
   "source": [
    "ab1 = torch.cat((a, b), dim=1)\n",
    "ab1"
   ]
  },
  {
   "cell_type": "code",
   "execution_count": 51,
   "metadata": {},
   "outputs": [
    {
     "data": {
      "text/plain": [
       "tensor([[0., 0., 1., 1.],\n",
       "        [0., 0., 1., 1.],\n",
       "        [0., 0., 1., 1.]])"
      ]
     },
     "execution_count": 51,
     "metadata": {},
     "output_type": "execute_result"
    }
   ],
   "source": [
    "# transpose of concatenated a & b tensor on dimension 1\n",
    "ab_1 = torch.cat((a, b), dim=1)\n",
    "ab_1"
   ]
  },
  {
   "cell_type": "code",
   "execution_count": 52,
   "metadata": {},
   "outputs": [
    {
     "data": {
      "text/plain": [
       "tensor([[0., 0., 0.],\n",
       "        [0., 0., 0.],\n",
       "        [1., 1., 1.],\n",
       "        [1., 1., 1.]])"
      ]
     },
     "execution_count": 52,
     "metadata": {},
     "output_type": "execute_result"
    }
   ],
   "source": [
    "# transpose of concatenated a & b tensor on dimension 1\n",
    "ab_1_t = ab_1.t()\n",
    "ab_1_t"
   ]
  },
  {
   "cell_type": "code",
   "execution_count": 53,
   "metadata": {},
   "outputs": [
    {
     "data": {
      "text/plain": [
       "tensor([[0., 0.],\n",
       "        [0., 0.],\n",
       "        [0., 0.],\n",
       "        [1., 1.],\n",
       "        [1., 1.],\n",
       "        [1., 1.]])"
      ]
     },
     "execution_count": 53,
     "metadata": {},
     "output_type": "execute_result"
    }
   ],
   "source": [
    "# the contatenated tensor of a & b on dimension 0\n",
    "ab_0 = torch.cat((a, b), dim=0)\n",
    "ab_0"
   ]
  },
  {
   "cell_type": "markdown",
   "metadata": {
    "colab_type": "text",
    "id": "5bj4aeE86zdH"
   },
   "source": [
    "\n",
    "\n",
    "---\n",
    "\n",
    "## Question 6: \n",
    "Is the transpose of concatenated a & b tensor on dimension 1, same as the contatenated tensor of a & b on dimension 0? \n",
    "\n",
    "\n",
    "\n",
    "---\n",
    "\n"
   ]
  },
  {
   "cell_type": "markdown",
   "metadata": {},
   "source": [
    "### Answer 6"
   ]
  },
  {
   "cell_type": "code",
   "execution_count": 54,
   "metadata": {},
   "outputs": [
    {
     "name": "stdout",
     "output_type": "stream",
     "text": [
      "tensor([[0., 0., 0.],\n",
      "        [0., 0., 0.],\n",
      "        [1., 1., 1.],\n",
      "        [1., 1., 1.]])\n",
      "tensor([[0., 0.],\n",
      "        [0., 0.],\n",
      "        [0., 0.],\n",
      "        [1., 1.],\n",
      "        [1., 1.],\n",
      "        [1., 1.]])\n"
     ]
    }
   ],
   "source": [
    "a = torch.zeros(3, 2)\n",
    "b = torch.ones(3, 2)\n",
    "print(torch.cat((a,b), dim=1).t())\n",
    "print(torch.cat((a, b), dim=0))"
   ]
  },
  {
   "cell_type": "markdown",
   "metadata": {},
   "source": [
    "No it will be different"
   ]
  },
  {
   "cell_type": "markdown",
   "metadata": {
    "colab_type": "text",
    "id": "0TXNne69j7LP"
   },
   "source": [
    "Indexing with another tenxor/array:"
   ]
  },
  {
   "cell_type": "code",
   "execution_count": 55,
   "metadata": {
    "colab": {
     "base_uri": "https://localhost:8080/",
     "height": 107
    },
    "colab_type": "code",
    "id": "KiE-Fsi4jVd6",
    "outputId": "4d151099-547f-4308-a82c-b7a9d7091e4b"
   },
   "outputs": [
    {
     "name": "stdout",
     "output_type": "stream",
     "text": [
      "tensor([0, 1, 2, 3, 4, 5, 6, 7, 8, 9])\n",
      "[False False False False False False  True  True  True  True]\n",
      "tensor([6, 7, 8, 9])\n",
      "tensor([0, 1, 2, 3, 4, 0, 1, 2, 3, 4])\n",
      "tensor([0, 1, 2, 3, 4, 0, 1, 2, 3, 4])\n"
     ]
    }
   ],
   "source": [
    "a = torch.arange(start=0, end=10)\n",
    "indices = np.arange(0, 10) > 5\n",
    "print(a)\n",
    "print(indices)\n",
    "print(a[indices])\n",
    "\n",
    "indices = torch.arange(start=0, end=10) %5\n",
    "print(indices)\n",
    "print(a[indices])"
   ]
  },
  {
   "cell_type": "markdown",
   "metadata": {
    "colab_type": "text",
    "id": "LS4dnlu47WQu"
   },
   "source": [
    "\n",
    "\n",
    "---\n",
    "\n",
    "## Question 7:\n",
    "\n",
    "`a` is defined as `torch.arange(start=0, end=10)`. We will create `b` using the two operations as below. In both cases do we get the same value?\n",
    "\n",
    "\n",
    "1.   indices variable created by the modulo operation on arange between 0 and 10. Then a new varialble `b` is created from `a` using the last 5 elements of indices. \n",
    "2.   indices variable created by the modulo operation on arange betwenn 1 and 11. Then a new varialble `b` is created from `a` using the last 5 elements of indices. \n",
    "\n",
    "\n",
    "\n",
    "---\n",
    "\n",
    "\n"
   ]
  },
  {
   "cell_type": "code",
   "execution_count": 56,
   "metadata": {},
   "outputs": [
    {
     "name": "stdout",
     "output_type": "stream",
     "text": [
      "tensor([0, 1, 2, 3, 4, 0, 1, 2, 3, 4])\n",
      "tensor([0, 1, 2, 3, 4, 0, 1, 2, 3, 4])\n"
     ]
    }
   ],
   "source": [
    "a = torch.arange(start=0, end=10)\n",
    "# indices = np.arange(0, 10) > 4\n",
    "\n",
    "# # print(a)\n",
    "# print(indices)\n",
    "# print(a[indices])\n",
    "\n",
    "indices = torch.arange(start=0, end=10) %5\n",
    "print(indices)\n",
    "print(a[indices])"
   ]
  },
  {
   "cell_type": "code",
   "execution_count": 57,
   "metadata": {},
   "outputs": [
    {
     "name": "stdout",
     "output_type": "stream",
     "text": [
      "tensor([1, 2, 3, 4, 0, 1, 2, 3, 4, 0])\n",
      "tensor([1, 2, 3, 4, 0, 1, 2, 3, 4, 0])\n"
     ]
    }
   ],
   "source": [
    "a = torch.arange(start=0, end=10)\n",
    "# indices = np.arange(0, 10) > 4\n",
    "\n",
    "# # print(a)\n",
    "# print(indices)\n",
    "# print(a[indices])\n",
    "\n",
    "indices = torch.arange(start=1, end=11) %5\n",
    "print(indices)\n",
    "print(a[indices])"
   ]
  },
  {
   "cell_type": "code",
   "execution_count": 58,
   "metadata": {},
   "outputs": [
    {
     "name": "stdout",
     "output_type": "stream",
     "text": [
      "tensor([0, 1, 2, 3, 4, 0, 1, 2, 3, 4])\n",
      "tensor([0, 1, 2, 3, 4])\n",
      "tensor([1, 2, 3, 4, 0, 1, 2, 3, 4, 0])\n",
      "tensor([1, 2, 3, 4, 0])\n"
     ]
    }
   ],
   "source": [
    "a = torch.arange(start=0, end=10)\n",
    "indices = torch.arange(start=0, end=10) % 5\n",
    "print(indices)\n",
    "b = a[indices[-5:]]\n",
    "print(b)\n",
    "indices = torch.arange(start=1, end=11) % 5\n",
    "print(indices)\n",
    "b = a[indices[-5:]]\n",
    "print(b)"
   ]
  },
  {
   "cell_type": "markdown",
   "metadata": {},
   "source": [
    "### Answer 7"
   ]
  },
  {
   "cell_type": "markdown",
   "metadata": {},
   "source": [
    "No, they are different"
   ]
  },
  {
   "cell_type": "code",
   "execution_count": null,
   "metadata": {},
   "outputs": [],
   "source": []
  },
  {
   "cell_type": "markdown",
   "metadata": {
    "colab_type": "text",
    "id": "eQ4ZCVsTk-KH"
   },
   "source": [
    "What should we do if we have, say, rank-2-tensor and want to select only some rows?"
   ]
  },
  {
   "cell_type": "code",
   "execution_count": 59,
   "metadata": {
    "colab": {
     "base_uri": "https://localhost:8080/",
     "height": 143
    },
    "colab_type": "code",
    "id": "_GtRpotjkt1q",
    "outputId": "89ba8b02-10d3-4c37-982a-3ef4b05be946"
   },
   "outputs": [
    {
     "name": "stdout",
     "output_type": "stream",
     "text": [
      "tensor([[0.5684, 0.1281, 0.4467],\n",
      "        [0.7236, 0.5178, 0.5372],\n",
      "        [0.3095, 0.1717, 0.2088],\n",
      "        [0.8322, 0.0547, 0.8186],\n",
      "        [0.6056, 0.1989, 0.5744]])\n",
      "tensor([[0.5684, 0.1281, 0.4467],\n",
      "        [0.3095, 0.1717, 0.2088]])\n"
     ]
    }
   ],
   "source": [
    "tensor = torch.rand((5, 3))\n",
    "rows = torch.tensor([0, 2])\n",
    "print(tensor)\n",
    "print(tensor[rows])"
   ]
  },
  {
   "cell_type": "code",
   "execution_count": 60,
   "metadata": {},
   "outputs": [
    {
     "data": {
      "text/plain": [
       "tensor([[0.5684, 0.1281, 0.4467],\n",
       "        [0.3095, 0.1717, 0.2088]])"
      ]
     },
     "execution_count": 60,
     "metadata": {},
     "output_type": "execute_result"
    }
   ],
   "source": [
    "tensor[0:3:2, :]"
   ]
  },
  {
   "cell_type": "code",
   "execution_count": 61,
   "metadata": {},
   "outputs": [
    {
     "data": {
      "text/plain": [
       "torch.Size([2])"
      ]
     },
     "execution_count": 61,
     "metadata": {},
     "output_type": "execute_result"
    }
   ],
   "source": [
    "torch.tensor([1, 2]).shape"
   ]
  },
  {
   "cell_type": "code",
   "execution_count": null,
   "metadata": {},
   "outputs": [],
   "source": []
  },
  {
   "cell_type": "markdown",
   "metadata": {
    "colab_type": "text",
    "id": "zIJnr_N2_Qaf"
   },
   "source": [
    "\n",
    "\n",
    "---\n",
    "\n",
    "## Question 8: \n",
    "\n",
    "Consider a tensor defined as `torch.rand((6, 5))`. Is the shape of the new tensor created by taking the 0th, 2nd and 4th row of the old tensor same as the shape of the a newer tensor created by taking the 0th, 2nd and 4th row of the old tensor after transposing it by operation `torch.transpose(tensor, 0, 1)` ?\n",
    "\n",
    "\n",
    "\n",
    "---\n",
    "\n",
    "\n"
   ]
  },
  {
   "cell_type": "code",
   "execution_count": 62,
   "metadata": {},
   "outputs": [
    {
     "name": "stdout",
     "output_type": "stream",
     "text": [
      "tensor([[0.5585, 0.8660, 0.0203, 0.8989, 0.4892],\n",
      "        [0.4640, 0.1698, 0.6633, 0.8508, 0.9466],\n",
      "        [0.9025, 0.3758, 0.6657, 0.9387, 0.2790],\n",
      "        [0.4356, 0.6027, 0.2735, 0.6769, 0.0629],\n",
      "        [0.2238, 0.2018, 0.8511, 0.2518, 0.2759],\n",
      "        [0.2835, 0.7276, 0.2092, 0.8715, 0.1773]])\n",
      "tensor([[0.5585, 0.8660, 0.0203, 0.8989, 0.4892],\n",
      "        [0.9025, 0.3758, 0.6657, 0.9387, 0.2790],\n",
      "        [0.2238, 0.2018, 0.8511, 0.2518, 0.2759]])\n",
      "torch.Size([3, 5])\n"
     ]
    }
   ],
   "source": [
    "tensor = torch.rand((6, 5))\n",
    "rows = torch.tensor([0, 2, 4])\n",
    "print(tensor)\n",
    "print(tensor[rows])\n",
    "new_t = tensor[rows]\n",
    "print(new_t.shape)"
   ]
  },
  {
   "cell_type": "code",
   "execution_count": 63,
   "metadata": {},
   "outputs": [
    {
     "data": {
      "text/plain": [
       "torch.Size([3, 5])"
      ]
     },
     "execution_count": 63,
     "metadata": {},
     "output_type": "execute_result"
    }
   ],
   "source": [
    "tensor[rows].shape"
   ]
  },
  {
   "cell_type": "code",
   "execution_count": 64,
   "metadata": {},
   "outputs": [
    {
     "data": {
      "text/plain": [
       "tensor([[0.5585, 0.8660, 0.0203, 0.8989, 0.4892],\n",
       "        [0.4640, 0.1698, 0.6633, 0.8508, 0.9466],\n",
       "        [0.9025, 0.3758, 0.6657, 0.9387, 0.2790],\n",
       "        [0.4356, 0.6027, 0.2735, 0.6769, 0.0629],\n",
       "        [0.2238, 0.2018, 0.8511, 0.2518, 0.2759],\n",
       "        [0.2835, 0.7276, 0.2092, 0.8715, 0.1773]])"
      ]
     },
     "execution_count": 64,
     "metadata": {},
     "output_type": "execute_result"
    }
   ],
   "source": [
    "tensor"
   ]
  },
  {
   "cell_type": "code",
   "execution_count": 65,
   "metadata": {},
   "outputs": [
    {
     "data": {
      "text/plain": [
       "torch.Size([5, 6])"
      ]
     },
     "execution_count": 65,
     "metadata": {},
     "output_type": "execute_result"
    }
   ],
   "source": [
    "torch.transpose(tensor, 0, 1).shape"
   ]
  },
  {
   "cell_type": "code",
   "execution_count": 66,
   "metadata": {},
   "outputs": [
    {
     "name": "stdout",
     "output_type": "stream",
     "text": [
      "tensor([[0.5585, 0.4640, 0.9025, 0.4356, 0.2238, 0.2835],\n",
      "        [0.8660, 0.1698, 0.3758, 0.6027, 0.2018, 0.7276],\n",
      "        [0.0203, 0.6633, 0.6657, 0.2735, 0.8511, 0.2092],\n",
      "        [0.8989, 0.8508, 0.9387, 0.6769, 0.2518, 0.8715],\n",
      "        [0.4892, 0.9466, 0.2790, 0.0629, 0.2759, 0.1773]])\n",
      "torch.Size([3, 6])\n"
     ]
    }
   ],
   "source": [
    "tensor = torch.transpose(tensor, 0, 1)\n",
    "rows = torch.tensor([0, 2, 4])\n",
    "new_t2 = tensor[rows]\n",
    "print(tensor)\n",
    "print(new_t2.shape)"
   ]
  },
  {
   "cell_type": "code",
   "execution_count": 67,
   "metadata": {},
   "outputs": [
    {
     "data": {
      "text/plain": [
       "tensor([[0.5585, 0.4640, 0.9025, 0.4356, 0.2238, 0.2835],\n",
       "        [0.0203, 0.6633, 0.6657, 0.2735, 0.8511, 0.2092],\n",
       "        [0.4892, 0.9466, 0.2790, 0.0629, 0.2759, 0.1773]])"
      ]
     },
     "execution_count": 67,
     "metadata": {},
     "output_type": "execute_result"
    }
   ],
   "source": [
    "new_t2"
   ]
  },
  {
   "cell_type": "code",
   "execution_count": 68,
   "metadata": {},
   "outputs": [
    {
     "data": {
      "text/plain": [
       "tensor([[0.5585, 0.8660, 0.0203, 0.8989, 0.4892],\n",
       "        [0.9025, 0.3758, 0.6657, 0.9387, 0.2790],\n",
       "        [0.2238, 0.2018, 0.8511, 0.2518, 0.2759]])"
      ]
     },
     "execution_count": 68,
     "metadata": {},
     "output_type": "execute_result"
    }
   ],
   "source": [
    "new_t"
   ]
  },
  {
   "cell_type": "markdown",
   "metadata": {},
   "source": [
    "### Answer 8"
   ]
  },
  {
   "cell_type": "markdown",
   "metadata": {},
   "source": [
    "- No its not same\n",
    "- torch.Size([3, 5])\n",
    "- torch.Size([3, 6])\n"
   ]
  },
  {
   "cell_type": "markdown",
   "metadata": {
    "colab_type": "text",
    "id": "naDzFMkslU0b"
   },
   "source": [
    "## Tensor Shapes\n",
    "\n",
    "Reshaping a tensor is a frequently used operation. We can change the shape of a tensor without the memory copying overhead. There are two methods for that: `reshape` and `view`. \n",
    "\n",
    "The difference is the following: \n",
    "\n",
    "\n",
    "*   view tries to return a tensor, and it shares the same memory with the original tensor. In case, if it cannot reuse the same memory due to [some reason](https://pytorch.org/docs/stable/tensors.html?highlight=view#torch.Tensor.view), it just fails. \n",
    "*   reshape always returns the tensor with the desired shape and tries to reuse the memory. If it cannot, it creates a copy\n",
    "\n",
    "Let's see with the help of an example:"
   ]
  },
  {
   "cell_type": "code",
   "execution_count": 69,
   "metadata": {
    "colab": {
     "base_uri": "https://localhost:8080/",
     "height": 179
    },
    "colab_type": "code",
    "id": "HClDkqLLlMJh",
    "outputId": "703bf39f-96e5-4990-90bb-1b59b96a01fb"
   },
   "outputs": [
    {
     "name": "stdout",
     "output_type": "stream",
     "text": [
      "Pointer to data:  94683104764096\n",
      "Shape:  torch.Size([2, 3, 4])\n",
      "Reshaped tensor - pointer to data 94683104764096\n",
      "Reshaped tensor shape  torch.Size([24])\n",
      "Viewed tensor - pointer to data 94683104764096\n",
      "Viewed tensor shape  torch.Size([3, 2, 4])\n",
      "Original stride:  (12, 4, 1)\n",
      "Reshaped stride:  (1,)\n",
      "Viewed stride:  (8, 4, 1)\n"
     ]
    }
   ],
   "source": [
    "tensor = torch.rand(2, 3, 4)\n",
    "print('Pointer to data: ', tensor.data_ptr())\n",
    "print('Shape: ', tensor.shape)\n",
    "\n",
    "reshaped = tensor.reshape(24)\n",
    "\n",
    "view = tensor.view(3, 2, 4)\n",
    "print('Reshaped tensor - pointer to data', reshaped.data_ptr())\n",
    "print('Reshaped tensor shape ', reshaped.shape)\n",
    "\n",
    "print('Viewed tensor - pointer to data', view.data_ptr())\n",
    "print('Viewed tensor shape ', view.shape)\n",
    "\n",
    "assert tensor.data_ptr() == view.data_ptr()\n",
    "\n",
    "assert np.all(np.equal(tensor.numpy().flat, reshaped.numpy().flat))\n",
    "\n",
    "print('Original stride: ', tensor.stride())\n",
    "print('Reshaped stride: ', reshaped.stride())\n",
    "print('Viewed stride: ', view.stride())"
   ]
  },
  {
   "cell_type": "code",
   "execution_count": 70,
   "metadata": {},
   "outputs": [
    {
     "data": {
      "text/plain": [
       "tensor([[[0.4358, 0.6543, 0.8528, 0.0643],\n",
       "         [0.7567, 0.5051, 0.2797, 0.6179],\n",
       "         [0.4741, 0.0606, 0.4518, 0.3710]],\n",
       "\n",
       "        [[0.0878, 0.8043, 0.6309, 0.1538],\n",
       "         [0.4719, 0.6317, 0.2831, 0.3881],\n",
       "         [0.9189, 0.0354, 0.3031, 0.5227]]])"
      ]
     },
     "execution_count": 70,
     "metadata": {},
     "output_type": "execute_result"
    }
   ],
   "source": [
    "tensor"
   ]
  },
  {
   "cell_type": "code",
   "execution_count": 71,
   "metadata": {},
   "outputs": [
    {
     "data": {
      "text/plain": [
       "tensor([[[0.4358, 0.6543, 0.8528, 0.0643],\n",
       "         [0.7567, 0.5051, 0.2797, 0.6179]],\n",
       "\n",
       "        [[0.4741, 0.0606, 0.4518, 0.3710],\n",
       "         [0.0878, 0.8043, 0.6309, 0.1538]],\n",
       "\n",
       "        [[0.4719, 0.6317, 0.2831, 0.3881],\n",
       "         [0.9189, 0.0354, 0.3031, 0.5227]]])"
      ]
     },
     "execution_count": 71,
     "metadata": {},
     "output_type": "execute_result"
    }
   ],
   "source": [
    "view"
   ]
  },
  {
   "cell_type": "code",
   "execution_count": 72,
   "metadata": {},
   "outputs": [
    {
     "data": {
      "text/plain": [
       "tensor([0.4358, 0.6543, 0.8528, 0.0643, 0.7567, 0.5051, 0.2797, 0.6179, 0.4741,\n",
       "        0.0606, 0.4518, 0.3710, 0.0878, 0.8043, 0.6309, 0.1538, 0.4719, 0.6317,\n",
       "        0.2831, 0.3881, 0.9189, 0.0354, 0.3031, 0.5227])"
      ]
     },
     "execution_count": 72,
     "metadata": {},
     "output_type": "execute_result"
    }
   ],
   "source": [
    "reshaped"
   ]
  },
  {
   "cell_type": "code",
   "execution_count": null,
   "metadata": {},
   "outputs": [],
   "source": []
  },
  {
   "cell_type": "markdown",
   "metadata": {
    "colab_type": "text",
    "id": "jIN5jSppm4yC"
   },
   "source": [
    "The basic rule about reshaping the tensor is definitely that you cannot change the total number of elements in it, so the product of all tensor's dimensions should always be the same. It gives us the ability to avoid specifying one dimension when reshaping the tensor - Pytorch can calculate it for us:"
   ]
  },
  {
   "cell_type": "code",
   "execution_count": 73,
   "metadata": {
    "colab": {
     "base_uri": "https://localhost:8080/",
     "height": 71
    },
    "colab_type": "code",
    "id": "e3D19ERFmzOl",
    "outputId": "b49f6393-7a79-4da7-bb31-b5d8cd885e3a"
   },
   "outputs": [
    {
     "name": "stdout",
     "output_type": "stream",
     "text": [
      "torch.Size([3, 2, 4])\n",
      "torch.Size([3, 2, 4])\n",
      "torch.Size([3, 2, 4])\n"
     ]
    }
   ],
   "source": [
    "print(tensor.reshape(3, 2, 4).shape)\n",
    "print(tensor.reshape(3, 2, -1).shape)\n",
    "print(tensor.reshape(3, -1, 4).shape)"
   ]
  },
  {
   "cell_type": "markdown",
   "metadata": {
    "colab_type": "text",
    "id": "ObgCQKUiETak"
   },
   "source": [
    "\n",
    "\n",
    "---\n",
    "\n",
    "\n",
    "## Question 9:\n",
    "\n",
    "Consider a tensor `a` created with [1, 2, 3] and [1, 2, 3] of size (2, 3) is reshaped with operation `.reshape(-1, 2)`. Also consider a tensor `b` created with [[2, 1]] and of size (1, 2), later operated with `view(2, -1)` operation. \n",
    "\n",
    "If we do a dot product of a and b (using `torch.mm`) and perform the sum of all the elements (using `torch.sum`) what do we get? (enter int value without any decimal point in the quiz)\n",
    "\n",
    "\n",
    "\n",
    "---\n",
    "\n"
   ]
  },
  {
   "cell_type": "markdown",
   "metadata": {},
   "source": [
    "### Answer 9"
   ]
  },
  {
   "cell_type": "markdown",
   "metadata": {},
   "source": [
    "18"
   ]
  },
  {
   "cell_type": "code",
   "execution_count": null,
   "metadata": {},
   "outputs": [],
   "source": []
  },
  {
   "cell_type": "code",
   "execution_count": 74,
   "metadata": {},
   "outputs": [],
   "source": [
    "a= torch.tensor([[1,2,3],[1,2,3]])"
   ]
  },
  {
   "cell_type": "code",
   "execution_count": 75,
   "metadata": {},
   "outputs": [
    {
     "data": {
      "text/plain": [
       "tensor([[1, 2, 3],\n",
       "        [1, 2, 3]])"
      ]
     },
     "execution_count": 75,
     "metadata": {},
     "output_type": "execute_result"
    }
   ],
   "source": [
    "a"
   ]
  },
  {
   "cell_type": "code",
   "execution_count": 76,
   "metadata": {},
   "outputs": [],
   "source": [
    "a = a.reshape(-1,2)"
   ]
  },
  {
   "cell_type": "code",
   "execution_count": 77,
   "metadata": {},
   "outputs": [
    {
     "data": {
      "text/plain": [
       "tensor([[1, 2],\n",
       "        [3, 1],\n",
       "        [2, 3]])"
      ]
     },
     "execution_count": 77,
     "metadata": {},
     "output_type": "execute_result"
    }
   ],
   "source": [
    "a"
   ]
  },
  {
   "cell_type": "code",
   "execution_count": 78,
   "metadata": {},
   "outputs": [],
   "source": [
    "b = torch.tensor([[2,1]])"
   ]
  },
  {
   "cell_type": "code",
   "execution_count": 79,
   "metadata": {},
   "outputs": [
    {
     "data": {
      "text/plain": [
       "tensor([[2, 1]])"
      ]
     },
     "execution_count": 79,
     "metadata": {},
     "output_type": "execute_result"
    }
   ],
   "source": [
    "b"
   ]
  },
  {
   "cell_type": "code",
   "execution_count": 80,
   "metadata": {},
   "outputs": [
    {
     "data": {
      "text/plain": [
       "torch.Size([1, 2])"
      ]
     },
     "execution_count": 80,
     "metadata": {},
     "output_type": "execute_result"
    }
   ],
   "source": [
    "b.shape"
   ]
  },
  {
   "cell_type": "code",
   "execution_count": 81,
   "metadata": {},
   "outputs": [],
   "source": [
    "b = b.view(2, -1)"
   ]
  },
  {
   "cell_type": "code",
   "execution_count": 82,
   "metadata": {},
   "outputs": [
    {
     "data": {
      "text/plain": [
       "tensor([[1, 2],\n",
       "        [3, 1],\n",
       "        [2, 3]])"
      ]
     },
     "execution_count": 82,
     "metadata": {},
     "output_type": "execute_result"
    }
   ],
   "source": [
    "a"
   ]
  },
  {
   "cell_type": "code",
   "execution_count": 83,
   "metadata": {},
   "outputs": [
    {
     "data": {
      "text/plain": [
       "tensor([[2],\n",
       "        [1]])"
      ]
     },
     "execution_count": 83,
     "metadata": {},
     "output_type": "execute_result"
    }
   ],
   "source": [
    "b"
   ]
  },
  {
   "cell_type": "code",
   "execution_count": 84,
   "metadata": {},
   "outputs": [
    {
     "data": {
      "text/plain": [
       "(torch.Size([3, 2]), torch.Size([2, 1]))"
      ]
     },
     "execution_count": 84,
     "metadata": {},
     "output_type": "execute_result"
    }
   ],
   "source": [
    "a.shape, b.shape"
   ]
  },
  {
   "cell_type": "code",
   "execution_count": 85,
   "metadata": {},
   "outputs": [
    {
     "data": {
      "text/plain": [
       "tensor(18)"
      ]
     },
     "execution_count": 85,
     "metadata": {},
     "output_type": "execute_result"
    }
   ],
   "source": [
    "torch.sum(torch.mm(a,b))"
   ]
  },
  {
   "cell_type": "code",
   "execution_count": 86,
   "metadata": {},
   "outputs": [
    {
     "data": {
      "text/plain": [
       "tensor([[1, 2],\n",
       "        [3, 1],\n",
       "        [2, 3]])"
      ]
     },
     "execution_count": 86,
     "metadata": {},
     "output_type": "execute_result"
    }
   ],
   "source": [
    "a"
   ]
  },
  {
   "cell_type": "code",
   "execution_count": 87,
   "metadata": {},
   "outputs": [
    {
     "data": {
      "text/plain": [
       "tensor([[2],\n",
       "        [1]])"
      ]
     },
     "execution_count": 87,
     "metadata": {},
     "output_type": "execute_result"
    }
   ],
   "source": [
    "b"
   ]
  },
  {
   "cell_type": "code",
   "execution_count": 88,
   "metadata": {},
   "outputs": [
    {
     "data": {
      "text/plain": [
       "tensor([[4],\n",
       "        [7],\n",
       "        [7]])"
      ]
     },
     "execution_count": 88,
     "metadata": {},
     "output_type": "execute_result"
    }
   ],
   "source": [
    "torch.mm(a,b)"
   ]
  },
  {
   "cell_type": "markdown",
   "metadata": {
    "colab_type": "text",
    "id": "mza7QPg3ndeV"
   },
   "source": [
    "**Alternative ways to view tensors** - `expand` or `expand_as`.\n",
    "\n",
    "\n",
    "\n",
    "*   `expand` - requires the desired shape as an input\n",
    "*   `expand_as` - uses the shape of another tensor\n",
    "\n",
    "These operations \"repeat\" tensor's values along the specified axes without actually copying the data. \n",
    "\n",
    "As the documentation says, expand:\n",
    "\n",
    "\n",
    "> returns a new view of the self tensor with singleton dimensions expanded to a larger size. Tensor can be also expanded to a larger number of dimensions, and the new ones will be appended at the front. For the new dimensions, the size cannot be set to -1. \n",
    "\n",
    "**Use case:**\n",
    "\n",
    "\n",
    "\n",
    "*   index multi-channel tensor with single-channel mask - imagine a color image with 3 channels (RGB) and binary mask for the area of interest on that image. We cannot index the image with this kind of mask directly since the dimensions are different, but we can use `expand_as` operation to create a view of the mask that has the same dimensions as the image we want to apply it to, but has not copied the data. "
   ]
  },
  {
   "cell_type": "code",
   "execution_count": 89,
   "metadata": {
    "colab": {
     "base_uri": "https://localhost:8080/",
     "height": 596
    },
    "colab_type": "code",
    "id": "iz33E-V7nPQT",
    "outputId": "8bcfc71f-b0bb-4c37-e5e0-5c4ffa38aacb"
   },
   "outputs": [
    {
     "name": "stdout",
     "output_type": "stream",
     "text": [
      "torch.Size([3, 256, 256])\n"
     ]
    },
    {
     "data": {
      "image/png": "[encoded data removed]",
      "text/plain": [
       "<Figure size 432x288 with 2 Axes>"
      ]
     },
     "metadata": {
      "needs_background": "light"
     },
     "output_type": "display_data"
    },
    {
     "data": {
      "image/png": "[encoded data removed]",
      "text/plain": [
       "<Figure size 432x288 with 2 Axes>"
      ]
     },
     "metadata": {
      "needs_background": "light"
     },
     "output_type": "display_data"
    },
    {
     "data": {
      "image/png": "[encoded data removed]",
      "text/plain": [
       "<Figure size 432x288 with 2 Axes>"
      ]
     },
     "metadata": {
      "needs_background": "light"
     },
     "output_type": "display_data"
    }
   ],
   "source": [
    "%matplotlib inline\n",
    "from matplotlib import pyplot as plt\n",
    "\n",
    "# Create a black image\n",
    "image = torch.zeros(size=(3, 256, 256), dtype=torch.int)\n",
    "\n",
    "# Leave the borders and make the rest of the image Green\n",
    "image[1, 18:256 - 18, 18:256 - 18] = 255\n",
    "\n",
    "# Create a mask of the same size\n",
    "mask = torch.zeros(size=(256, 256), dtype=torch.bool)\n",
    "\n",
    "# Assuming the green region in the original image is the Region of interest, change the mask to white for that area\n",
    "mask[18:256 - 18, 18:256 - 18] = 1\n",
    "\n",
    "# Create a view of the mask with the same dimensions as the original image\n",
    "mask_expanded = mask.expand_as(image)\n",
    "print(mask_expanded.shape)\n",
    "\n",
    "mask_np = mask_expanded.numpy().transpose(1, 2, 0) * 255\n",
    "image_np = image.numpy().transpose(1, 2, 0)\n",
    "\n",
    "fig, ax = plt.subplots(1, 2)\n",
    "ax[0].imshow(image_np)\n",
    "ax[1].imshow(mask_np)\n",
    "plt.show()\n",
    "\n",
    "image[0, mask] += 128\n",
    "fig, ax = plt.subplots(1, 2)\n",
    "ax[0].imshow(image_np)\n",
    "ax[1].imshow(mask_np)\n",
    "plt.show()\n",
    "\n",
    "image[mask_expanded] += 128\n",
    "image.clamp_(0, 255)\n",
    "fig, ax = plt.subplots(1, 2)\n",
    "ax[0].imshow(image_np)\n",
    "ax[1].imshow(mask_np)\n",
    "plt.show()"
   ]
  },
  {
   "cell_type": "markdown",
   "metadata": {
    "colab_type": "text",
    "id": "jiXBx0k3ptOI"
   },
   "source": [
    "In the example above, one can also find a couple of useful tricks:\n",
    "\n",
    "\n",
    "*   `clamp` method and function is a Pytorch's analogue of NumPy's `clip` function\n",
    "*   many operations on tensors have in-place form, that does not return modified data, but change values in the tensor. The in-place version of the operation has trailing underscore according to Pytorch's naming convension - in the exmaple above it is `clamp_`\n",
    "*   tensors have the same indexing as Numpy's arrays - one can use `:` seperated range, negative indexes and so on.\n",
    "\n",
    "\n",
    ".\n",
    "\n",
    "\n",
    "---\n",
    "\n",
    "# Images and their representations\n",
    "\n",
    "Now, let's discuss images, their representations and how different Python librarties work with them. \n",
    "\n",
    "Probably, the most well-known library for image loading and simple processing is [Pillow](https://pillow.readthedocs.io/en/stable/). \n",
    "\n",
    "However, many people in deep learning area stick with OpenCV for image loading and processing with some usage of another libraries when it is justified by performance/functionality. This is because OpenCV is in general much faster than the other libraries. Here you can find a couple of benchmarks: \n",
    "\n",
    "*   https://www.kaggle.com/zfturbo/benchmark-2019-speed-of-image-reading\n",
    "*   https://github.com/albumentations-team/albumentations#benchmarking-results\n",
    "\n",
    "To sum up the benchmarks above, there are two most common image formats, PNG and JPEGs. If your data is in PNG format - use OpenCV to read it. If it is in JPEG - use libturbojpeg. For image processing, use OpenCV if possible. _We will be using PIL a lot along with these._\n",
    "\n",
    "As you will read the code from others, you may find out that some of them use Pillow/something else to read data. You should know, that color image representations in OpenCV and other libraries are different - OpenCV uses \"BGR\" channel order, while others use \"RGB\" one. \n",
    "\n",
    "To change \"BRG\" <-> \"RGB\" the only thing we need to do it to change channel order."
   ]
  },
  {
   "cell_type": "code",
   "execution_count": 90,
   "metadata": {
    "colab": {
     "base_uri": "https://localhost:8080/",
     "height": 152
    },
    "colab_type": "code",
    "id": "ZYv4sZMmpndu",
    "outputId": "8751abcd-fa7d-494a-83fc-65db456a2a22"
   },
   "outputs": [
    {
     "data": {
      "image/png": "[encoded data removed]",
      "text/plain": [
       "<Figure size 432x288 with 2 Axes>"
      ]
     },
     "metadata": {
      "needs_background": "light"
     },
     "output_type": "display_data"
    }
   ],
   "source": [
    "%matplotlib inline\n",
    "from matplotlib import pyplot as plt\n",
    "import cv2\n",
    "\n",
    "\n",
    "bgr_image = cv2.imread('mars.jpg') \n",
    "# remember to add your own image in case you run this block, if you want to use the same image, \n",
    "# download it from: https://encrypted-tbn0.gstatic.com/images?q=tbn%3AANd9GcRCA40ftnscVzfV8ft8e7vIzQXfXeZdtco8nknJrfCUW6INI40U\n",
    "rgb_image = bgr_image[..., ::-1]\n",
    "fig, ax = plt.subplots(1, 2)\n",
    "ax[0].imshow(bgr_image)\n",
    "ax[1].imshow(rgb_image)\n",
    "plt.show()"
   ]
  },
  {
   "cell_type": "code",
   "execution_count": 91,
   "metadata": {},
   "outputs": [
    {
     "name": "stdout",
     "output_type": "stream",
     "text": [
      "[[5 5 5 ... 5 5 5]\n",
      " [5 5 5 ... 5 5 5]\n",
      " [5 5 5 ... 5 5 5]\n",
      " ...\n",
      " [5 5 5 ... 5 5 5]\n",
      " [3 4 4 ... 6 6 6]\n",
      " [3 4 4 ... 6 6 6]]\n"
     ]
    }
   ],
   "source": [
    "print(rgb_image[:,:,2])"
   ]
  },
  {
   "cell_type": "markdown",
   "metadata": {
    "colab_type": "text",
    "id": "yoi4TeNBGHle"
   },
   "source": [
    "\n",
    "\n",
    "---\n",
    "\n",
    "## Question 10:\n",
    "\n",
    "Looking at the results above it can be said that the pixel values in the blue channels would be very small compared to red channel. True/False?\n",
    "\n",
    "\n",
    "---\n",
    "\n",
    "\n"
   ]
  },
  {
   "cell_type": "markdown",
   "metadata": {},
   "source": [
    "### Answer 10"
   ]
  },
  {
   "cell_type": "markdown",
   "metadata": {},
   "source": [
    "Yes"
   ]
  },
  {
   "cell_type": "markdown",
   "metadata": {
    "colab_type": "text",
    "id": "b3ugFd57zNwa"
   },
   "source": [
    "# Autograd\n",
    "\n",
    "Pytorch supports automatic differentiation. The module which implements this is called **AutoGrad**. It calculates the gradients and keeps track in forward and backward passes. For primitive tensors, you need to enable or disable it using the `required_grad` flag. But, for advanced tensors, it is enabled by default"
   ]
  },
  {
   "cell_type": "code",
   "execution_count": 92,
   "metadata": {
    "colab": {
     "base_uri": "https://localhost:8080/",
     "height": 197
    },
    "colab_type": "code",
    "id": "VMOp4aiou6JR",
    "outputId": "e9a22acd-21b1-427d-c1c0-90302bc1c37a"
   },
   "outputs": [
    {
     "name": "stdout",
     "output_type": "stream",
     "text": [
      "tensor([[0.5106, 0.5553, 0.0545, 0.1718, 0.0813],\n",
      "        [0.8570, 0.4955, 0.2073, 0.1133, 0.0273],\n",
      "        [0.0694, 0.7795, 0.2957, 0.5160, 0.6295]], requires_grad=True)\n",
      "tensor([[2.5531, 2.7763, 0.2725, 0.8589, 0.4066],\n",
      "        [4.2852, 2.4775, 1.0366, 0.5667, 0.1366],\n",
      "        [0.3469, 3.8973, 1.4786, 2.5801, 3.1476]], grad_fn=<MulBackward0>)\n",
      "tensor(26.8205, grad_fn=<SumBackward0>)\n",
      "tensor([[5., 5., 5., 5., 5.],\n",
      "        [5., 5., 5., 5., 5.],\n",
      "        [5., 5., 5., 5., 5.]])\n"
     ]
    }
   ],
   "source": [
    "a = torch.rand((3, 5), requires_grad = True)\n",
    "print(a)\n",
    "result = a * 5\n",
    "print(result)\n",
    "\n",
    "# grad can be implicitly created only for scalar outputs\n",
    "# so let's calculate the sum here so that the output becomes a scalar and we can apply a backward pass\n",
    "mean_result = result.sum()\n",
    "print(mean_result)\n",
    "# calculate gradient\n",
    "mean_result.backward()\n",
    "# print gradient of a\n",
    "print(a.grad)"
   ]
  },
  {
   "cell_type": "markdown",
   "metadata": {
    "colab_type": "text",
    "id": "ym0Amk2IGfLx"
   },
   "source": [
    "\n",
    "\n",
    "---\n",
    "\n",
    "## Question 11: \n",
    "\n",
    "Why the gradient of a is all 5s above?\n",
    "\n",
    "\n",
    "\n",
    "---\n",
    "\n"
   ]
  },
  {
   "cell_type": "markdown",
   "metadata": {},
   "source": [
    "### Answer 11"
   ]
  },
  {
   "cell_type": "markdown",
   "metadata": {},
   "source": [
    "its first order derivating and all weights are multiplied by 5"
   ]
  },
  {
   "cell_type": "code",
   "execution_count": null,
   "metadata": {},
   "outputs": [],
   "source": []
  },
  {
   "cell_type": "markdown",
   "metadata": {
    "colab_type": "text",
    "id": "7PDgGq2R0k7I"
   },
   "source": [
    "As we see, Pytorch automagically calculated the gradient value for us. It looks to be the correct value - we multiplied an input by 5, so the gradient of this operation equals to 5.\n",
    "\n",
    "# Disabling Autograd for tensors\n",
    "\n",
    "We don't need to compute gradients for all the variables that are involved in the pipeline. The Pytorch API provides 2 ways to disable autograd.\n",
    "\n",
    "`detach` - returns a copy of the tensor with autograd disabled. This \n",
    "\n",
    "1.   copy is built on the same memory as the original tensor, so in-place size / stride / storage changes (such as resize_ / resizeas / set / transpose) modifications are not allowed.\n",
    "2.   torch.no_grad() - It is a context manager that allows you to guard a series of operations from autograd without creating new tensors."
   ]
  },
  {
   "cell_type": "code",
   "execution_count": 93,
   "metadata": {
    "colab": {
     "base_uri": "https://localhost:8080/",
     "height": 71
    },
    "colab_type": "code",
    "id": "yqVG9fQb0cLW",
    "outputId": "2081f403-31a2-4296-c670-b899e246a8cc"
   },
   "outputs": [
    {
     "data": {
      "text/plain": [
       "tensor([[10., 10., 10., 10., 10.],\n",
       "        [10., 10., 10., 10., 10.],\n",
       "        [10., 10., 10., 10., 10.]])"
      ]
     },
     "execution_count": 93,
     "metadata": {},
     "output_type": "execute_result"
    }
   ],
   "source": [
    "a = torch.rand((3, 5), requires_grad=True)\n",
    "detached_a = a.detach()\n",
    "detached_result = detached_a * 5\n",
    "result = a * 10\n",
    "# we cannot do backward pass that is required for autograd using multideminsional output,\n",
    "# so let's calculate the sum here\n",
    "mean_result = result.sum()\n",
    "mean_result.backward()\n",
    "a.grad"
   ]
  },
  {
   "cell_type": "code",
   "execution_count": 94,
   "metadata": {
    "colab": {
     "base_uri": "https://localhost:8080/",
     "height": 71
    },
    "colab_type": "code",
    "id": "uqpch2Be02J7",
    "outputId": "0a5ee8e8-81b8-46f0-c7fc-ac406657e928"
   },
   "outputs": [
    {
     "data": {
      "text/plain": [
       "tensor([[10., 10., 10., 10., 10.],\n",
       "        [10., 10., 10., 10., 10.],\n",
       "        [10., 10., 10., 10., 10.]])"
      ]
     },
     "execution_count": 94,
     "metadata": {},
     "output_type": "execute_result"
    }
   ],
   "source": [
    "a = torch.rand((3, 5), requires_grad=True)\n",
    "with torch.no_grad():\n",
    "    detached_result = a * 5\n",
    "result = a * 10\n",
    "# we cannot do backward pass that is required for autograd using multideminsional output,\n",
    "# so let's calculate the sum here\n",
    "mean_result = result.sum()\n",
    "mean_result.backward()\n",
    "a.grad"
   ]
  },
  {
   "cell_type": "markdown",
   "metadata": {
    "colab_type": "text",
    "id": "vjh2rYOPJUAZ"
   },
   "source": [
    "# Custom Network\n",
    "\n",
    "A fully-connected ReLU network with one hidden layer and no biases, trained to predict y from x by minimizing squared Euclidean distance.\n",
    "\n",
    "This implementation uses PyTorch tensors to manually compute the forward pass, loss, and backward pass.\n",
    "\n",
    "A PyTorch Tensor is basically the same as a numpy array: it does not know anything about deep learning or computational graphs or gradients, and is just a generic n-dimensional array to be used for arbitrary numeric computation.\n",
    "\n",
    "The biggest difference between a numpy array and a PyTorch Tensor is that a PyTorch Tensor can run on either CPU or GPU. To run operations on the GPU, just cast the Tensor to a cuda datatype."
   ]
  },
  {
   "cell_type": "code",
   "execution_count": 95,
   "metadata": {
    "colab": {
     "base_uri": "https://localhost:8080/",
     "height": 1000
    },
    "colab_type": "code",
    "id": "0nf5RaB104Vp",
    "outputId": "c0829682-3be1-4709-dff8-2e4d2bc59e53"
   },
   "outputs": [
    {
     "name": "stdout",
     "output_type": "stream",
     "text": [
      "0 39532780.0\n",
      "20 231924.015625\n",
      "40 28216.890625\n",
      "60 5885.07568359375\n",
      "80 1622.0474853515625\n",
      "100 514.865478515625\n",
      "120 177.70782470703125\n",
      "140 64.84036254882812\n",
      "160 24.654796600341797\n",
      "180 9.662209510803223\n",
      "200 3.879192352294922\n",
      "220 1.588875651359558\n",
      "240 0.6620397567749023\n",
      "260 0.27993687987327576\n",
      "280 0.11994365602731705\n",
      "300 0.05197920650243759\n",
      "320 0.02285081148147583\n",
      "340 0.010242938064038754\n",
      "360 0.004744367208331823\n",
      "380 0.002319259801879525\n",
      "400 0.0012138928286731243\n",
      "420 0.0006897380226291716\n",
      "440 0.0004219833354000002\n",
      "460 0.0002721465425565839\n",
      "480 0.0001863017096184194\n"
     ]
    }
   ],
   "source": [
    "dtype = torch.float\n",
    "device = torch.device(\"cpu\")\n",
    "# device = torch.device(\"cuda:0\") # Uncomment this to run on GPU\n",
    "\n",
    "# N is batch size; D_in is input dimension;\n",
    "# H is hidden dimension; D_out is output dimension.\n",
    "N, D_in, H, D_out = 64, 1000, 100, 10\n",
    "\n",
    "# Create random input and output data\n",
    "x = torch.randn(N, D_in, device=device, dtype=dtype)\n",
    "y = torch.randn(N, D_out, device=device, dtype=dtype)\n",
    "\n",
    "# Randomly initialize weights\n",
    "w1 = torch.randn(D_in, H, device=device, dtype=dtype)\n",
    "w2 = torch.randn(H, D_out, device=device, dtype=dtype)\n",
    "\n",
    "learning_rate = 1e-6\n",
    "for t in range(500):\n",
    "    # Forward pass: compute predicted y\n",
    "    h = x.mm(w1)\n",
    "    h_relu = h.clamp(min=0)\n",
    "    y_pred = h_relu.mm(w2)\n",
    "\n",
    "    # Compute and print loss\n",
    "    loss = (y_pred - y).pow(2).sum().item()\n",
    "#     print(t, loss)\n",
    "    if t % 20 == 0:\n",
    "        print(t, loss)\n",
    "\n",
    "    # Backprop to compute gradients of w1 and w2 with respect to loss\n",
    "    grad_y_pred = 2*(y_pred - y)\n",
    "    grad_w2 = h_relu.t().mm(grad_y_pred)\n",
    "    grad_h_relu = grad_y_pred.mm(w2.t())\n",
    "    grad_h = grad_h_relu.clone()\n",
    "    grad_h[h < 0] = 0\n",
    "    grad_w1 = x.t().mm(grad_h)\n",
    "\n",
    "    # Update weights using gradient descent\n",
    "    w1 -= learning_rate * grad_w1\n",
    "    w2 -= learning_rate * grad_w2"
   ]
  },
  {
   "cell_type": "code",
   "execution_count": 96,
   "metadata": {},
   "outputs": [
    {
     "data": {
      "text/plain": [
       "tensor([[-0.8268, -0.2485, -1.0746,  ...,  0.0253, -1.6024, -2.2317],\n",
       "        [-0.3636, -1.3383,  0.4429,  ..., -1.0159, -0.7128, -2.0438],\n",
       "        [ 0.1432,  1.4031, -0.8941,  ..., -0.5747, -0.6715, -0.7979],\n",
       "        ...,\n",
       "        [ 0.1176, -1.6958,  0.7854,  ..., -1.4605,  0.5716, -0.4368],\n",
       "        [-0.6023, -0.4162, -0.0512,  ..., -1.3135, -0.4948, -0.8213],\n",
       "        [-0.5280,  1.0142, -1.8237,  ...,  0.9854,  0.0402,  0.5359]])"
      ]
     },
     "execution_count": 96,
     "metadata": {},
     "output_type": "execute_result"
    }
   ],
   "source": [
    "x"
   ]
  },
  {
   "cell_type": "code",
   "execution_count": null,
   "metadata": {},
   "outputs": [],
   "source": []
  },
  {
   "cell_type": "markdown",
   "metadata": {
    "colab_type": "text",
    "id": "ycwxAPHZLNST"
   },
   "source": [
    "\n",
    "\n",
    "---\n",
    "## Question 12\n",
    "\n",
    "In the code above, why do we have 2 in '2.0*(y_pred - y)`?\n",
    "\n",
    "df/dx of f(x) = x**2 is 2*x\n",
    "\n",
    "## Question 13\n",
    "In the code above, what does `grad_h[h < 0] = 0` signify?\n",
    "\n",
    "Derivative of ReLU\n",
    "\n",
    "\n",
    "## Question 14\n",
    "In the code above, how many \"epochs\" have we trained the model for? \n",
    "\n",
    "500\n",
    "\n",
    "## Question 15\n",
    "In the code above, if we take the trained model, and run it on fresh  inputs, the trained model will be able to predict fresh output with high accuracy. \n",
    "\n",
    "No, it would be different as we do not have random seed\n",
    "\n",
    "## Question 16\n",
    "In the code above, if we dont use clone in `grad_h = grad_h_relu.clone()` the model will still train without any issues. \n",
    "\n",
    "No "
   ]
  },
  {
   "cell_type": "code",
   "execution_count": null,
   "metadata": {
    "colab": {},
    "colab_type": "code",
    "id": "PnJ49I07JJI6"
   },
   "outputs": [],
   "source": []
  }
 ],
 "metadata": {
  "colab": {
   "name": "PyTorch101.ipynb",
   "provenance": []
  },
  "kernelspec": {
   "display_name": "conda_pytorch_p36",
   "language": "python",
   "name": "conda_pytorch_p36"
  },
  "language_info": {
   "codemirror_mode": {
    "name": "ipython",
    "version": 3
   },
   "file_extension": ".py",
   "mimetype": "text/x-python",
   "name": "python",
   "nbconvert_exporter": "python",
   "pygments_lexer": "ipython3",
   "version": "3.6.10"
  }
 },
 "nbformat": 4,
 "nbformat_minor": 1
}
